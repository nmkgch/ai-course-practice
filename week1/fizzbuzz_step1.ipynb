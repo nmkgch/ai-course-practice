{
  "nbformat": 4,
  "nbformat_minor": 0,
  "metadata": {
    "colab": {
      "provenance": [],
      "authorship_tag": "ABX9TyPY6VVNA8ptZhX+tt761T1w",
      "include_colab_link": true
    },
    "kernelspec": {
      "name": "python3",
      "display_name": "Python 3"
    },
    "language_info": {
      "name": "python"
    }
  },
  "cells": [
    {
      "cell_type": "markdown",
      "metadata": {
        "id": "view-in-github",
        "colab_type": "text"
      },
      "source": [
        "<a href=\"https://colab.research.google.com/github/nmkgch/ai-course-practice/blob/main/week1/fizzbuzz_step1.ipynb\" target=\"_parent\"><img src=\"https://colab.research.google.com/assets/colab-badge.svg\" alt=\"Open In Colab\"/></a>"
      ]
    },
    {
      "cell_type": "code",
      "execution_count": null,
      "metadata": {
        "colab": {
          "base_uri": "https://localhost:8080/"
        },
        "id": "HKr2UXt-YIvh",
        "outputId": "6338342b-4b85-4337-de61-a60d80829ba0"
      },
      "outputs": [
        {
          "output_type": "stream",
          "name": "stdout",
          "text": [
            "[1, 2, 'Multiple of 3', 4, 5, 'Multiple of 3', 7, 8, 'Multiple of 3', 10, 11, 'Multiple of 3', 13, 14, 'Multiple of 3', 16, 17, 'Multiple of 3', 19, 20]\n"
          ]
        }
      ],
      "source": [
        "l = []\n",
        "for i in range(1, 21):\n",
        "  if i % 3 == 0:\n",
        "    l.append(\"Multiple of 3\")\n",
        "  else:\n",
        "    l.append(i)\n",
        "\n",
        "print(l)"
      ]
    }
  ]
}